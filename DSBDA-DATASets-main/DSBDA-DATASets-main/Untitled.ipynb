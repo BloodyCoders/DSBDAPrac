{
 "cells": [
  {
   "cell_type": "code",
   "execution_count": 26,
   "id": "d268b41b-1bd5-4db8-9072-728071fd395f",
   "metadata": {},
   "outputs": [],
   "source": [
    "link = \"https://www.flipkart.com/search?q=tv&as=on&asshow=on&otracker=AS_Query_TrendingAutoSuggest_8_0_na_na_na&otracker1=AS_Query_TrendingAutoSuggest_8_0_na_na_na&as-pos=8&astype=TRENDING&suggestionId=tv&requestId=9c9fa553-b7e5-454b-a65bbbb7a9c74a29\"\n",
    "page = requests.get(link)"
   ]
  },
  {
   "cell_type": "code",
   "execution_count": 27,
   "id": "19335fa6-b845-46c2-9164-7c2146594d07",
   "metadata": {},
   "outputs": [],
   "source": [
    "soup = bs(page.content,\"html.parser\")"
   ]
  },
  {
   "cell_type": "code",
   "execution_count": 28,
   "id": "5a7606fd-683a-408e-a50a-ca4ab2b83d72",
   "metadata": {},
   "outputs": [
    {
     "data": {
      "text/plain": [
       "'<html>\\n <body>\\n  <h1>\\n   500 Internal Server Error\\n  </h1>\\n  An internal server error occurred.\\n </body>\\n</html>\\n'"
      ]
     },
     "execution_count": 28,
     "metadata": {},
     "output_type": "execute_result"
    }
   ],
   "source": [
    "soup.prettify()"
   ]
  },
  {
   "cell_type": "code",
   "execution_count": 30,
   "id": "b8ddd7bc-7714-41bf-868f-43bf7b6e1c76",
   "metadata": {},
   "outputs": [],
   "source": [
    "name = soup.find('div',class_=\"_4rR01T\")\n"
   ]
  },
  {
   "cell_type": "code",
   "execution_count": 31,
   "id": "e2373a02-a0a6-4c16-9a10-66271bcb6db4",
   "metadata": {},
   "outputs": [],
   "source": [
    "name"
   ]
  },
  {
   "cell_type": "code",
   "execution_count": 34,
   "id": "fd7ed9b0-65a1-48c7-8dcb-3ae08ce02b57",
   "metadata": {},
   "outputs": [
    {
     "ename": "AttributeError",
     "evalue": "'NoneType' object has no attribute 'txet'",
     "output_type": "error",
     "traceback": [
      "\u001b[1;31m---------------------------------------------------------------------------\u001b[0m",
      "\u001b[1;31mAttributeError\u001b[0m                            Traceback (most recent call last)",
      "Cell \u001b[1;32mIn[34], line 1\u001b[0m\n\u001b[1;32m----> 1\u001b[0m name\u001b[38;5;241m.\u001b[39mtxet\n",
      "\u001b[1;31mAttributeError\u001b[0m: 'NoneType' object has no attribute 'txet'"
     ]
    }
   ],
   "source": [
    "name.txet"
   ]
  },
  {
   "cell_type": "code",
   "execution_count": null,
   "id": "676daf9c-db00-451f-bff5-7f37daa7ba50",
   "metadata": {},
   "outputs": [],
   "source": []
  }
 ],
 "metadata": {
  "kernelspec": {
   "display_name": "Python 3 (ipykernel)",
   "language": "python",
   "name": "python3"
  },
  "language_info": {
   "codemirror_mode": {
    "name": "ipython",
    "version": 3
   },
   "file_extension": ".py",
   "mimetype": "text/x-python",
   "name": "python",
   "nbconvert_exporter": "python",
   "pygments_lexer": "ipython3",
   "version": "3.11.7"
  }
 },
 "nbformat": 4,
 "nbformat_minor": 5
}
